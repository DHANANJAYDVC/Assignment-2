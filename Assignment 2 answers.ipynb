{
 "cells": [
  {
   "cell_type": "markdown",
   "id": "90e5fa34",
   "metadata": {},
   "source": [
    "Q1.What are the two values of the Boolean data type? How do you write them?"
   ]
  },
  {
   "cell_type": "markdown",
   "id": "9c6ce951",
   "metadata": {},
   "source": [
    "Ans: True and False are the two values of the boolean data type and using capital T and F we can write them"
   ]
  },
  {
   "cell_type": "markdown",
   "id": "ced24a81",
   "metadata": {},
   "source": [
    "Q2. What are the three different types of Boolean operators?"
   ]
  },
  {
   "cell_type": "markdown",
   "id": "a954f99d",
   "metadata": {},
   "source": [
    "Ans: AND, OR and NOT are the three different types of the boolean operators"
   ]
  },
  {
   "cell_type": "markdown",
   "id": "e225955c",
   "metadata": {},
   "source": [
    "Q3. Make a list of each Boolean operator's truth tables (i.e. every possible combination of Boolean values for the operator and what it evaluate )."
   ]
  },
  {
   "cell_type": "markdown",
   "id": "0a9ab42b",
   "metadata": {},
   "source": [
    "Answer:-\n",
    "    \n",
    "For T AND F\n",
    "\n",
    "T T = T\n",
    "\n",
    "T F = F\n",
    "\n",
    "F T = F\n",
    "\n",
    "F F = F\n",
    "\n",
    "\n",
    "For T OR F\n",
    "\n",
    "T T = T\n",
    "\n",
    "T F = T\n",
    "\n",
    "F T = T\n",
    "\n",
    "F F = F\n",
    "\n",
    "\n",
    "FOR NOT \n",
    "\n",
    "T T =  F         F\n",
    "\n",
    "T F =  F         T\n",
    "\n",
    "F T =  T         F\n",
    "\n",
    "F F =  T         T"
   ]
  },
  {
   "cell_type": "markdown",
   "id": "ec9d6510",
   "metadata": {},
   "source": [
    "Q4. What are the values of the following expressions?\n",
    "(5 > 4) and (3 == 5)\n",
    "not (5 > 4)\n",
    "(5 > 4) or (3 == 5)\n",
    "not ((5 > 4) or (3 == 5))\n",
    "(True and True) and (True == False)\n",
    "(not False) or (not True)\n"
   ]
  },
  {
   "cell_type": "code",
   "execution_count": 2,
   "id": "7ffaeaf9",
   "metadata": {},
   "outputs": [
    {
     "data": {
      "text/plain": [
       "False"
      ]
     },
     "execution_count": 2,
     "metadata": {},
     "output_type": "execute_result"
    }
   ],
   "source": [
    "(5 > 4) and (3 == 5)\n",
    "not (5 > 4)"
   ]
  },
  {
   "cell_type": "code",
   "execution_count": 3,
   "id": "e9974158",
   "metadata": {},
   "outputs": [
    {
     "data": {
      "text/plain": [
       "False"
      ]
     },
     "execution_count": 3,
     "metadata": {},
     "output_type": "execute_result"
    }
   ],
   "source": [
    "(5 > 4) or (3 == 5)\n",
    "not ((5 > 4) or (3 == 5))"
   ]
  },
  {
   "cell_type": "code",
   "execution_count": 4,
   "id": "95c369d9",
   "metadata": {},
   "outputs": [
    {
     "data": {
      "text/plain": [
       "True"
      ]
     },
     "execution_count": 4,
     "metadata": {},
     "output_type": "execute_result"
    }
   ],
   "source": [
    "(True and True) and (True == False)\n",
    "(not False) or (not True)"
   ]
  },
  {
   "cell_type": "markdown",
   "id": "edd9735b",
   "metadata": {},
   "source": [
    "Q5. What are the six comparison operators"
   ]
  },
  {
   "cell_type": "markdown",
   "id": "fd915778",
   "metadata": {},
   "source": [
    "Answer:-\n",
    "\n",
    "less than (<) \n",
    "\n",
    "less than or equal to (<=)\n",
    "\n",
    "greater than (>)\n",
    "\n",
    "greater than or equal to (>=)\n",
    "\n",
    "equal to (==), \n",
    "\n",
    "and not equal to (!=)"
   ]
  },
  {
   "cell_type": "markdown",
   "id": "4df2d80d",
   "metadata": {},
   "source": [
    "Q6. How do you tell the difference between the equal to and assignment operators?Describe a condition and when you would use one."
   ]
  },
  {
   "cell_type": "markdown",
   "id": "a0772560",
   "metadata": {},
   "source": [
    "Answer:-\n",
    "\n",
    "equal to operator : The equal to operator is denoted by \"==\" which compares that the given values are equal or not if so it returns true otherwise returns false\n",
    "\n",
    "assignment operator : The assignment operator is denoted by \"=\" and it is use to assign the values to the variables  "
   ]
  },
  {
   "cell_type": "markdown",
   "id": "e2b08948",
   "metadata": {},
   "source": [
    "Q7. Identify the three blocks in this code:\n",
    "spam = 0\n",
    "if spam == 10:\n",
    "print('eggs')\n",
    "if spam > 5:\n",
    "print('bacon')\n",
    "else:\n",
    "print('ham')\n",
    "print('spam')\n",
    "print('spam')\n"
   ]
  },
  {
   "cell_type": "code",
   "execution_count": 7,
   "id": "f16e3a1c",
   "metadata": {},
   "outputs": [],
   "source": [
    "spam = 0"
   ]
  },
  {
   "cell_type": "code",
   "execution_count": 17,
   "id": "8055df84",
   "metadata": {},
   "outputs": [
    {
     "name": "stdout",
     "output_type": "stream",
     "text": [
      "ham\n",
      "spam\n",
      "spam\n"
     ]
    }
   ],
   "source": [
    "#block 1\n",
    "if spam == 10:\n",
    "    print('eggs')\n",
    "\n",
    "#block 2\n",
    "if spam > 5:\n",
    "    print('bacon')\n",
    "    \n",
    "#block 3\n",
    "else:\n",
    "    print('ham')\n",
    "    print('spam')\n",
    "    print('spam')"
   ]
  },
  {
   "cell_type": "markdown",
   "id": "db15c9f3",
   "metadata": {},
   "source": [
    "Q8. Write code that prints Hello if 1 is stored in spam, prints Howdy if 2 is stored in spam, and prints Greetings! if anything else is stored in spam."
   ]
  },
  {
   "cell_type": "code",
   "execution_count": 18,
   "id": "3d884536",
   "metadata": {},
   "outputs": [
    {
     "name": "stdout",
     "output_type": "stream",
     "text": [
      "Greeting!\n"
     ]
    }
   ],
   "source": [
    "spam = 0\n",
    "if spam ==1:\n",
    "    print (\"Hello\")\n",
    "if spam ==2:\n",
    "    print(\"Howdy\")\n",
    "else:\n",
    "    print(\"Greeting!\")"
   ]
  }
 ],
 "metadata": {
  "kernelspec": {
   "display_name": "Python 3 (ipykernel)",
   "language": "python",
   "name": "python3"
  },
  "language_info": {
   "codemirror_mode": {
    "name": "ipython",
    "version": 3
   },
   "file_extension": ".py",
   "mimetype": "text/x-python",
   "name": "python",
   "nbconvert_exporter": "python",
   "pygments_lexer": "ipython3",
   "version": "3.9.7"
  }
 },
 "nbformat": 4,
 "nbformat_minor": 5
}
